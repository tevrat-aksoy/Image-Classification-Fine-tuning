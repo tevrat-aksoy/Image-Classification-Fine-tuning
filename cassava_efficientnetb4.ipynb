This is a Kaggle cassava-leaf-disease-classification competition code. 
EfficientnetB4 used for Transfer Learning


